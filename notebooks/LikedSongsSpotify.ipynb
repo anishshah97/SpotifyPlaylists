{
 "cells": [
  {
   "cell_type": "code",
   "execution_count": 1,
   "metadata": {},
   "outputs": [],
   "source": [
    "import spotipy"
   ]
  },
  {
   "cell_type": "code",
   "execution_count": 5,
   "metadata": {},
   "outputs": [],
   "source": [
    "from tqdm import tqdm"
   ]
  },
  {
   "cell_type": "code",
   "execution_count": 2,
   "metadata": {},
   "outputs": [],
   "source": [
    "from spotipy.oauth2 import SpotifyOAuth\n",
    "from dotenv import load_dotenv, find_dotenv\n",
    "import os\n",
    "import math\n",
    "from itertools import chain\n",
    "import time\n",
    "load_dotenv(find_dotenv())\n",
    "scope = \"user-top-read%20user-read-currently-playing%20user-read-playback-state%20playlist-read-collaborative%20playlist-read-private%20user-library-read%20user-read-recently-played%20user-follow-read\""
   ]
  },
  {
   "cell_type": "code",
   "execution_count": 12,
   "metadata": {},
   "outputs": [
    {
     "name": "stderr",
     "output_type": "stream",
     "text": [
      "/opt/miniconda3/lib/python3.7/site-packages/tqdm/std.py:668: FutureWarning: The Panel class is removed from pandas. Accessing it from the top-level namespace will also be removed in the next version\n",
      "  from pandas import Panel\n"
     ]
    }
   ],
   "source": [
    "import flatdict\n",
    "import pandas as pd\n",
    "tqdm.pandas()"
   ]
  },
  {
   "cell_type": "code",
   "execution_count": 8,
   "metadata": {},
   "outputs": [],
   "source": [
    "def chunk(data, n):\n",
    "    return [data[x:x+n] for x in range(0, len(data), n)]"
   ]
  },
  {
   "cell_type": "code",
   "execution_count": 3,
   "metadata": {},
   "outputs": [],
   "source": [
    "sp = spotipy.Spotify(auth_manager=SpotifyOAuth(scope=scope))"
   ]
  },
  {
   "cell_type": "code",
   "execution_count": 4,
   "metadata": {},
   "outputs": [],
   "source": [
    "def get_saved_tracks(page):\n",
    "    return sp.current_user_saved_tracks(limit=50, offset=page*50)['items']"
   ]
  },
  {
   "cell_type": "code",
   "execution_count": 10,
   "metadata": {},
   "outputs": [],
   "source": [
    "def get_track_features(track_ids):\n",
    "    if len(track_ids)>100:\n",
    "        print(\"Too many tracks\")\n",
    "    else:\n",
    "        return sp.audio_features(track_ids)"
   ]
  },
  {
   "cell_type": "code",
   "execution_count": 6,
   "metadata": {},
   "outputs": [
    {
     "name": "stderr",
     "output_type": "stream",
     "text": [
      "100%|██████████| 48/48 [00:06<00:00,  7.30it/s]\n"
     ]
    }
   ],
   "source": [
    "all_results = []\n",
    "results = sp.current_user_saved_tracks(limit=50)\n",
    "total_results = results['total']\n",
    "total_pages = math.ceil(total_results/50)\n",
    "all_tracks = list(chain.from_iterable([get_saved_tracks(page) for page in tqdm(list(range(total_pages)))]))"
   ]
  },
  {
   "cell_type": "code",
   "execution_count": 7,
   "metadata": {},
   "outputs": [],
   "source": [
    "all_track_ids = [track['track']['id'] for track in all_tracks]"
   ]
  },
  {
   "cell_type": "code",
   "execution_count": 9,
   "metadata": {},
   "outputs": [],
   "source": [
    "chunked_track_ids = chunk(all_track_ids, 100)"
   ]
  },
  {
   "cell_type": "code",
   "execution_count": 11,
   "metadata": {},
   "outputs": [
    {
     "name": "stderr",
     "output_type": "stream",
     "text": [
      "100%|██████████| 24/24 [00:04<00:00,  5.01it/s]\n"
     ]
    }
   ],
   "source": [
    "all_audio_features = [val for val in list(chain.from_iterable([get_track_features(chunked_tracks) for chunked_tracks in tqdm(chunked_track_ids)])) if val]"
   ]
  },
  {
   "cell_type": "code",
   "execution_count": 13,
   "metadata": {},
   "outputs": [
    {
     "name": "stderr",
     "output_type": "stream",
     "text": [
      "100%|██████████| 2393/2393 [00:02<00:00, 940.45it/s] \n"
     ]
    }
   ],
   "source": [
    "flattened_tracks = [dict(flatdict.FlatterDict(track)) for track in tqdm(all_tracks)]"
   ]
  },
  {
   "cell_type": "code",
   "execution_count": 14,
   "metadata": {},
   "outputs": [],
   "source": [
    "tracks_df = pd.DataFrame(flattened_tracks)\n",
    "market_cols = [col for col in tracks_df.columns if \"market\" in col]\n",
    "#Drop columns with more than 60% nulls\n",
    "subset_tracks_df = tracks_df.drop(market_cols, axis=1).dropna(axis=1, thresh=int(0.6*len(tracks_df)))"
   ]
  },
  {
   "cell_type": "code",
   "execution_count": 15,
   "metadata": {},
   "outputs": [
    {
     "data": {
      "text/html": [
       "<div>\n",
       "<style scoped>\n",
       "    .dataframe tbody tr th:only-of-type {\n",
       "        vertical-align: middle;\n",
       "    }\n",
       "\n",
       "    .dataframe tbody tr th {\n",
       "        vertical-align: top;\n",
       "    }\n",
       "\n",
       "    .dataframe thead th {\n",
       "        text-align: right;\n",
       "    }\n",
       "</style>\n",
       "<table border=\"1\" class=\"dataframe\">\n",
       "  <thead>\n",
       "    <tr style=\"text-align: right;\">\n",
       "      <th></th>\n",
       "      <th>added_at</th>\n",
       "      <th>track:album:album_type</th>\n",
       "      <th>track:album:artists:0:external_urls:spotify</th>\n",
       "      <th>track:album:artists:0:href</th>\n",
       "      <th>track:album:artists:0:id</th>\n",
       "      <th>track:album:artists:0:name</th>\n",
       "      <th>track:album:artists:0:type</th>\n",
       "      <th>track:album:artists:0:uri</th>\n",
       "      <th>track:album:external_urls:spotify</th>\n",
       "      <th>track:album:href</th>\n",
       "      <th>...</th>\n",
       "      <th>track:external_urls:spotify</th>\n",
       "      <th>track:href</th>\n",
       "      <th>track:id</th>\n",
       "      <th>track:is_local</th>\n",
       "      <th>track:name</th>\n",
       "      <th>track:popularity</th>\n",
       "      <th>track:preview_url</th>\n",
       "      <th>track:track_number</th>\n",
       "      <th>track:type</th>\n",
       "      <th>track:uri</th>\n",
       "    </tr>\n",
       "  </thead>\n",
       "  <tbody>\n",
       "    <tr>\n",
       "      <th>0</th>\n",
       "      <td>2020-12-18T22:10:50Z</td>\n",
       "      <td>single</td>\n",
       "      <td>https://open.spotify.com/artist/0LyfQWJT6nXafL...</td>\n",
       "      <td>https://api.spotify.com/v1/artists/0LyfQWJT6nX...</td>\n",
       "      <td>0LyfQWJT6nXafLPZqxe9Of</td>\n",
       "      <td>Various Artists</td>\n",
       "      <td>artist</td>\n",
       "      <td>spotify:artist:0LyfQWJT6nXafLPZqxe9Of</td>\n",
       "      <td>https://open.spotify.com/album/04R8E7DvTPx6tSw...</td>\n",
       "      <td>https://api.spotify.com/v1/albums/04R8E7DvTPx6...</td>\n",
       "      <td>...</td>\n",
       "      <td>https://open.spotify.com/track/2lCinwx9z9Fmr8k...</td>\n",
       "      <td>https://api.spotify.com/v1/tracks/2lCinwx9z9Fm...</td>\n",
       "      <td>2lCinwx9z9Fmr8kcXDei0c</td>\n",
       "      <td>False</td>\n",
       "      <td>AUTOMATIC REMIX</td>\n",
       "      <td>49</td>\n",
       "      <td>https://p.scdn.co/mp3-preview/b595bcdc2583d775...</td>\n",
       "      <td>1</td>\n",
       "      <td>track</td>\n",
       "      <td>spotify:track:2lCinwx9z9Fmr8kcXDei0c</td>\n",
       "    </tr>\n",
       "  </tbody>\n",
       "</table>\n",
       "<p>1 rows × 46 columns</p>\n",
       "</div>"
      ],
      "text/plain": [
       "               added_at track:album:album_type  \\\n",
       "0  2020-12-18T22:10:50Z                 single   \n",
       "\n",
       "         track:album:artists:0:external_urls:spotify  \\\n",
       "0  https://open.spotify.com/artist/0LyfQWJT6nXafL...   \n",
       "\n",
       "                          track:album:artists:0:href track:album:artists:0:id  \\\n",
       "0  https://api.spotify.com/v1/artists/0LyfQWJT6nX...   0LyfQWJT6nXafLPZqxe9Of   \n",
       "\n",
       "  track:album:artists:0:name track:album:artists:0:type  \\\n",
       "0            Various Artists                     artist   \n",
       "\n",
       "               track:album:artists:0:uri  \\\n",
       "0  spotify:artist:0LyfQWJT6nXafLPZqxe9Of   \n",
       "\n",
       "                   track:album:external_urls:spotify  \\\n",
       "0  https://open.spotify.com/album/04R8E7DvTPx6tSw...   \n",
       "\n",
       "                                    track:album:href  ...  \\\n",
       "0  https://api.spotify.com/v1/albums/04R8E7DvTPx6...  ...   \n",
       "\n",
       "                         track:external_urls:spotify  \\\n",
       "0  https://open.spotify.com/track/2lCinwx9z9Fmr8k...   \n",
       "\n",
       "                                          track:href                track:id  \\\n",
       "0  https://api.spotify.com/v1/tracks/2lCinwx9z9Fm...  2lCinwx9z9Fmr8kcXDei0c   \n",
       "\n",
       "   track:is_local       track:name track:popularity  \\\n",
       "0           False  AUTOMATIC REMIX               49   \n",
       "\n",
       "                                   track:preview_url  track:track_number  \\\n",
       "0  https://p.scdn.co/mp3-preview/b595bcdc2583d775...                   1   \n",
       "\n",
       "  track:type                             track:uri  \n",
       "0      track  spotify:track:2lCinwx9z9Fmr8kcXDei0c  \n",
       "\n",
       "[1 rows x 46 columns]"
      ]
     },
     "execution_count": 15,
     "metadata": {},
     "output_type": "execute_result"
    }
   ],
   "source": [
    "subset_tracks_df.head(1)"
   ]
  },
  {
   "cell_type": "code",
   "execution_count": 16,
   "metadata": {},
   "outputs": [],
   "source": [
    "track_features_df = pd.DataFrame(all_audio_features)"
   ]
  },
  {
   "cell_type": "code",
   "execution_count": 17,
   "metadata": {},
   "outputs": [
    {
     "data": {
      "text/html": [
       "<div>\n",
       "<style scoped>\n",
       "    .dataframe tbody tr th:only-of-type {\n",
       "        vertical-align: middle;\n",
       "    }\n",
       "\n",
       "    .dataframe tbody tr th {\n",
       "        vertical-align: top;\n",
       "    }\n",
       "\n",
       "    .dataframe thead th {\n",
       "        text-align: right;\n",
       "    }\n",
       "</style>\n",
       "<table border=\"1\" class=\"dataframe\">\n",
       "  <thead>\n",
       "    <tr style=\"text-align: right;\">\n",
       "      <th></th>\n",
       "      <th>danceability</th>\n",
       "      <th>energy</th>\n",
       "      <th>key</th>\n",
       "      <th>loudness</th>\n",
       "      <th>mode</th>\n",
       "      <th>speechiness</th>\n",
       "      <th>acousticness</th>\n",
       "      <th>instrumentalness</th>\n",
       "      <th>liveness</th>\n",
       "      <th>valence</th>\n",
       "      <th>tempo</th>\n",
       "      <th>type</th>\n",
       "      <th>id</th>\n",
       "      <th>uri</th>\n",
       "      <th>track_href</th>\n",
       "      <th>analysis_url</th>\n",
       "      <th>duration_ms</th>\n",
       "      <th>time_signature</th>\n",
       "    </tr>\n",
       "  </thead>\n",
       "  <tbody>\n",
       "    <tr>\n",
       "      <th>0</th>\n",
       "      <td>0.741</td>\n",
       "      <td>0.654</td>\n",
       "      <td>7</td>\n",
       "      <td>-5.485</td>\n",
       "      <td>0</td>\n",
       "      <td>0.0495</td>\n",
       "      <td>0.145</td>\n",
       "      <td>0.0</td>\n",
       "      <td>0.436</td>\n",
       "      <td>0.539</td>\n",
       "      <td>100.003</td>\n",
       "      <td>audio_features</td>\n",
       "      <td>2lCinwx9z9Fmr8kcXDei0c</td>\n",
       "      <td>spotify:track:2lCinwx9z9Fmr8kcXDei0c</td>\n",
       "      <td>https://api.spotify.com/v1/tracks/2lCinwx9z9Fm...</td>\n",
       "      <td>https://api.spotify.com/v1/audio-analysis/2lCi...</td>\n",
       "      <td>938893</td>\n",
       "      <td>4</td>\n",
       "    </tr>\n",
       "  </tbody>\n",
       "</table>\n",
       "</div>"
      ],
      "text/plain": [
       "   danceability  energy  key  loudness  mode  speechiness  acousticness  \\\n",
       "0         0.741   0.654    7    -5.485     0       0.0495         0.145   \n",
       "\n",
       "   instrumentalness  liveness  valence    tempo            type  \\\n",
       "0               0.0     0.436    0.539  100.003  audio_features   \n",
       "\n",
       "                       id                                   uri  \\\n",
       "0  2lCinwx9z9Fmr8kcXDei0c  spotify:track:2lCinwx9z9Fmr8kcXDei0c   \n",
       "\n",
       "                                          track_href  \\\n",
       "0  https://api.spotify.com/v1/tracks/2lCinwx9z9Fm...   \n",
       "\n",
       "                                        analysis_url  duration_ms  \\\n",
       "0  https://api.spotify.com/v1/audio-analysis/2lCi...       938893   \n",
       "\n",
       "   time_signature  \n",
       "0               4  "
      ]
     },
     "execution_count": 17,
     "metadata": {},
     "output_type": "execute_result"
    }
   ],
   "source": [
    "track_features_df.head(1)"
   ]
  },
  {
   "cell_type": "code",
   "execution_count": 18,
   "metadata": {},
   "outputs": [],
   "source": [
    "tracks_and_features_df = pd.merge(subset_tracks_df, track_features_df, left_on=\"track:id\", right_on=\"id\")"
   ]
  },
  {
   "cell_type": "code",
   "execution_count": 19,
   "metadata": {},
   "outputs": [
    {
     "data": {
      "text/html": [
       "<div>\n",
       "<style scoped>\n",
       "    .dataframe tbody tr th:only-of-type {\n",
       "        vertical-align: middle;\n",
       "    }\n",
       "\n",
       "    .dataframe tbody tr th {\n",
       "        vertical-align: top;\n",
       "    }\n",
       "\n",
       "    .dataframe thead th {\n",
       "        text-align: right;\n",
       "    }\n",
       "</style>\n",
       "<table border=\"1\" class=\"dataframe\">\n",
       "  <thead>\n",
       "    <tr style=\"text-align: right;\">\n",
       "      <th></th>\n",
       "      <th>added_at</th>\n",
       "      <th>track:album:album_type</th>\n",
       "      <th>track:album:artists:0:external_urls:spotify</th>\n",
       "      <th>track:album:artists:0:href</th>\n",
       "      <th>track:album:artists:0:id</th>\n",
       "      <th>track:album:artists:0:name</th>\n",
       "      <th>track:album:artists:0:type</th>\n",
       "      <th>track:album:artists:0:uri</th>\n",
       "      <th>track:album:external_urls:spotify</th>\n",
       "      <th>track:album:href</th>\n",
       "      <th>...</th>\n",
       "      <th>liveness</th>\n",
       "      <th>valence</th>\n",
       "      <th>tempo</th>\n",
       "      <th>type</th>\n",
       "      <th>id</th>\n",
       "      <th>uri</th>\n",
       "      <th>track_href</th>\n",
       "      <th>analysis_url</th>\n",
       "      <th>duration_ms</th>\n",
       "      <th>time_signature</th>\n",
       "    </tr>\n",
       "  </thead>\n",
       "  <tbody>\n",
       "    <tr>\n",
       "      <th>0</th>\n",
       "      <td>2020-12-18T22:10:50Z</td>\n",
       "      <td>single</td>\n",
       "      <td>https://open.spotify.com/artist/0LyfQWJT6nXafL...</td>\n",
       "      <td>https://api.spotify.com/v1/artists/0LyfQWJT6nX...</td>\n",
       "      <td>0LyfQWJT6nXafLPZqxe9Of</td>\n",
       "      <td>Various Artists</td>\n",
       "      <td>artist</td>\n",
       "      <td>spotify:artist:0LyfQWJT6nXafLPZqxe9Of</td>\n",
       "      <td>https://open.spotify.com/album/04R8E7DvTPx6tSw...</td>\n",
       "      <td>https://api.spotify.com/v1/albums/04R8E7DvTPx6...</td>\n",
       "      <td>...</td>\n",
       "      <td>0.436</td>\n",
       "      <td>0.539</td>\n",
       "      <td>100.003</td>\n",
       "      <td>audio_features</td>\n",
       "      <td>2lCinwx9z9Fmr8kcXDei0c</td>\n",
       "      <td>spotify:track:2lCinwx9z9Fmr8kcXDei0c</td>\n",
       "      <td>https://api.spotify.com/v1/tracks/2lCinwx9z9Fm...</td>\n",
       "      <td>https://api.spotify.com/v1/audio-analysis/2lCi...</td>\n",
       "      <td>938893</td>\n",
       "      <td>4</td>\n",
       "    </tr>\n",
       "  </tbody>\n",
       "</table>\n",
       "<p>1 rows × 64 columns</p>\n",
       "</div>"
      ],
      "text/plain": [
       "               added_at track:album:album_type  \\\n",
       "0  2020-12-18T22:10:50Z                 single   \n",
       "\n",
       "         track:album:artists:0:external_urls:spotify  \\\n",
       "0  https://open.spotify.com/artist/0LyfQWJT6nXafL...   \n",
       "\n",
       "                          track:album:artists:0:href track:album:artists:0:id  \\\n",
       "0  https://api.spotify.com/v1/artists/0LyfQWJT6nX...   0LyfQWJT6nXafLPZqxe9Of   \n",
       "\n",
       "  track:album:artists:0:name track:album:artists:0:type  \\\n",
       "0            Various Artists                     artist   \n",
       "\n",
       "               track:album:artists:0:uri  \\\n",
       "0  spotify:artist:0LyfQWJT6nXafLPZqxe9Of   \n",
       "\n",
       "                   track:album:external_urls:spotify  \\\n",
       "0  https://open.spotify.com/album/04R8E7DvTPx6tSw...   \n",
       "\n",
       "                                    track:album:href  ... liveness  valence  \\\n",
       "0  https://api.spotify.com/v1/albums/04R8E7DvTPx6...  ...    0.436    0.539   \n",
       "\n",
       "     tempo            type                      id  \\\n",
       "0  100.003  audio_features  2lCinwx9z9Fmr8kcXDei0c   \n",
       "\n",
       "                                    uri  \\\n",
       "0  spotify:track:2lCinwx9z9Fmr8kcXDei0c   \n",
       "\n",
       "                                          track_href  \\\n",
       "0  https://api.spotify.com/v1/tracks/2lCinwx9z9Fm...   \n",
       "\n",
       "                                        analysis_url duration_ms  \\\n",
       "0  https://api.spotify.com/v1/audio-analysis/2lCi...      938893   \n",
       "\n",
       "   time_signature  \n",
       "0               4  \n",
       "\n",
       "[1 rows x 64 columns]"
      ]
     },
     "execution_count": 19,
     "metadata": {},
     "output_type": "execute_result"
    }
   ],
   "source": [
    "tracks_and_features_df.head(1)"
   ]
  },
  {
   "cell_type": "code",
   "execution_count": 25,
   "metadata": {},
   "outputs": [],
   "source": [
    "tracks_and_features_df.to_csv(\"SpotifySongs.csv\", index=False)"
   ]
  },
  {
   "cell_type": "code",
   "execution_count": 24,
   "metadata": {},
   "outputs": [],
   "source": [
    "#TODO: Also include songs in playlists that arent in liked songs?"
   ]
  },
  {
   "cell_type": "code",
   "execution_count": null,
   "metadata": {},
   "outputs": [],
   "source": []
  }
 ],
 "metadata": {
  "kernelspec": {
   "display_name": "Python 3",
   "language": "python",
   "name": "python3"
  },
  "language_info": {
   "codemirror_mode": {
    "name": "ipython",
    "version": 3
   },
   "file_extension": ".py",
   "mimetype": "text/x-python",
   "name": "python",
   "nbconvert_exporter": "python",
   "pygments_lexer": "ipython3",
   "version": "3.7.4"
  }
 },
 "nbformat": 4,
 "nbformat_minor": 4
}
