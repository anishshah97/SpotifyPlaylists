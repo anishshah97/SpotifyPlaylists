{
 "cells": [
  {
   "cell_type": "code",
   "execution_count": 1,
   "metadata": {},
   "outputs": [],
   "source": [
    "import spotipy"
   ]
  },
  {
   "cell_type": "code",
   "execution_count": 2,
   "metadata": {},
   "outputs": [],
   "source": [
    "from tqdm import tqdm"
   ]
  },
  {
   "cell_type": "code",
   "execution_count": 3,
   "metadata": {},
   "outputs": [],
   "source": [
    "from pathlib import Path"
   ]
  },
  {
   "cell_type": "code",
   "execution_count": 4,
   "metadata": {},
   "outputs": [],
   "source": [
    "project_dir = Path().absolute().parent\n",
    "data_dir = Path(project_dir, \"data\")"
   ]
  },
  {
   "cell_type": "code",
   "execution_count": 5,
   "metadata": {},
   "outputs": [
    {
     "data": {
      "text/plain": [
       "True"
      ]
     },
     "execution_count": 5,
     "metadata": {},
     "output_type": "execute_result"
    }
   ],
   "source": [
    "from spotipy.oauth2 import SpotifyOAuth\n",
    "from dotenv import load_dotenv, find_dotenv\n",
    "import os\n",
    "import math\n",
    "from itertools import chain\n",
    "import time\n",
    "load_dotenv(find_dotenv())"
   ]
  },
  {
   "cell_type": "code",
   "execution_count": 6,
   "metadata": {},
   "outputs": [
    {
     "name": "stderr",
     "output_type": "stream",
     "text": [
      "/opt/miniconda3/lib/python3.7/site-packages/tqdm/std.py:668: FutureWarning: The Panel class is removed from pandas. Accessing it from the top-level namespace will also be removed in the next version\n",
      "  from pandas import Panel\n"
     ]
    }
   ],
   "source": [
    "import flatdict\n",
    "import pandas as pd\n",
    "tqdm.pandas()"
   ]
  },
  {
   "cell_type": "code",
   "execution_count": 7,
   "metadata": {},
   "outputs": [],
   "source": [
    "def chunk(data, n):\n",
    "    return [data[x:x+n] for x in range(0, len(data), n)]"
   ]
  },
  {
   "cell_type": "code",
   "execution_count": 8,
   "metadata": {},
   "outputs": [],
   "source": [
    "scope = \"user-top-read%20user-read-currently-playing%20user-read-playback-state%20playlist-read-collaborative%20playlist-read-private%20user-library-read%20user-read-recently-played%20user-follow-read\"\n",
    "sp = spotipy.Spotify(auth_manager=SpotifyOAuth(scope=scope))"
   ]
  },
  {
   "cell_type": "markdown",
   "metadata": {},
   "source": [
    "# Get Liked Songs"
   ]
  },
  {
   "cell_type": "code",
   "execution_count": 9,
   "metadata": {},
   "outputs": [],
   "source": [
    "def get_saved_track_page_count():\n",
    "    first_page_saved_tracks = sp.current_user_saved_tracks(limit=50)\n",
    "    count_saved_songs = first_page_saved_tracks['total'] #Tells total amount of saved tracks\n",
    "    total_pages_saved_songs = math.ceil(count_saved_songs/50) #Can get 50 tracks at a time\n",
    "    return total_pages_saved_songs"
   ]
  },
  {
   "cell_type": "code",
   "execution_count": 10,
   "metadata": {},
   "outputs": [],
   "source": [
    "def get_saved_tracks(page_num):\n",
    "    time.sleep(0.25)\n",
    "    return sp.current_user_saved_tracks(limit=50, offset=page_num*50)['items']"
   ]
  },
  {
   "cell_type": "code",
   "execution_count": 11,
   "metadata": {},
   "outputs": [
    {
     "name": "stderr",
     "output_type": "stream",
     "text": [
      "100%|██████████| 48/48 [00:17<00:00,  2.69it/s]\n"
     ]
    }
   ],
   "source": [
    "total_pages_saved_songs = get_saved_track_page_count()\n",
    "liked_tracks = list(chain.from_iterable([get_saved_tracks(page_num) for page_num in tqdm(list(range(total_pages_saved_songs)))]))"
   ]
  },
  {
   "cell_type": "code",
   "execution_count": 12,
   "metadata": {},
   "outputs": [],
   "source": [
    "flattened_liked_tracks = [dict(flatdict.FlatterDict(track)) for track in liked_tracks]"
   ]
  },
  {
   "cell_type": "code",
   "execution_count": 13,
   "metadata": {},
   "outputs": [],
   "source": [
    "full_liked_tracks_df = pd.DataFrame(flattened_liked_tracks)"
   ]
  },
  {
   "cell_type": "code",
   "execution_count": 14,
   "metadata": {},
   "outputs": [],
   "source": [
    "track_col_renames = {\n",
    "    \"track:album:album_type\" : \"album_type\",\n",
    "    \"track:album:artists:0:external_urls:spotify\": \"album_artist_spurl\",\n",
    "    \"track:album:artists:0:id\": \"album_artist_spid\",\n",
    "    \"track:album:artists:0:name\": \"album_artist_name\",\n",
    "    \"track:album:artists:0:type\": \"album_artist_type\",\n",
    "    \"track:album:external_urls:spotify\": \"album_spurl\",\n",
    "    \"track:album:id\": \"album_spid\",\n",
    "    \"track:album:images:0:url\": \"album_img_url\",\n",
    "    \"track:album:name\": \"album_name\",\n",
    "    \"track:album:release_date\": \"album_release_date\",\n",
    "    \"track:album:total_tracks\": \"album_tracks_count\",\n",
    "    \"track:album:type\": \"album_track_type\",\n",
    "    \"track:artists:0:external_urls:spotify\": \"artist_spurl\",\n",
    "    \"track:artists:0:id\": \"artist_spid\",\n",
    "    \"track:artists:0:name\": \"artist_name\",\n",
    "    \"track:artists:0:type\": \"artist_type\",\n",
    "#    \"track:duration_ms\": \"track_duration_ms\",\n",
    "    \"track:explicit\": \"track_explicit\",\n",
    "    \"track:external_ids:isrc\": \"track_isrc\",\n",
    "    \"track:external_urls:spotify\": \"track_spurl\",\n",
    "    \"track:id\": \"track_spid\",\n",
    "    \"track:is_local\": \"track_is_local\",\n",
    "    \"track:name\": \"track_name\",\n",
    "    \"track:popularity\": \"track_popularity\",\n",
    "    \"track:preview_url\": \"track_preview_url\",\n",
    "    \"track:track_number\": \"track_number\",\n",
    "    \"track:type\": \"track_type\"\n",
    "}"
   ]
  },
  {
   "cell_type": "code",
   "execution_count": 15,
   "metadata": {},
   "outputs": [],
   "source": [
    "des_tracks_cols = [\n",
    "    \"added_at\"\n",
    "] + list(track_col_renames.values())"
   ]
  },
  {
   "cell_type": "code",
   "execution_count": 16,
   "metadata": {},
   "outputs": [],
   "source": [
    "liked_tracks_df = full_liked_tracks_df.rename(track_col_renames, axis=1)[des_tracks_cols]"
   ]
  },
  {
   "cell_type": "code",
   "execution_count": 17,
   "metadata": {},
   "outputs": [
    {
     "data": {
      "text/html": [
       "<div>\n",
       "<style scoped>\n",
       "    .dataframe tbody tr th:only-of-type {\n",
       "        vertical-align: middle;\n",
       "    }\n",
       "\n",
       "    .dataframe tbody tr th {\n",
       "        vertical-align: top;\n",
       "    }\n",
       "\n",
       "    .dataframe thead th {\n",
       "        text-align: right;\n",
       "    }\n",
       "</style>\n",
       "<table border=\"1\" class=\"dataframe\">\n",
       "  <thead>\n",
       "    <tr style=\"text-align: right;\">\n",
       "      <th></th>\n",
       "      <th>added_at</th>\n",
       "      <th>album_type</th>\n",
       "      <th>album_artist_spurl</th>\n",
       "      <th>album_artist_spid</th>\n",
       "      <th>album_artist_name</th>\n",
       "      <th>album_artist_type</th>\n",
       "      <th>album_spurl</th>\n",
       "      <th>album_spid</th>\n",
       "      <th>album_img_url</th>\n",
       "      <th>album_name</th>\n",
       "      <th>...</th>\n",
       "      <th>track_explicit</th>\n",
       "      <th>track_isrc</th>\n",
       "      <th>track_spurl</th>\n",
       "      <th>track_spid</th>\n",
       "      <th>track_is_local</th>\n",
       "      <th>track_name</th>\n",
       "      <th>track_popularity</th>\n",
       "      <th>track_preview_url</th>\n",
       "      <th>track_number</th>\n",
       "      <th>track_type</th>\n",
       "    </tr>\n",
       "  </thead>\n",
       "  <tbody>\n",
       "    <tr>\n",
       "      <th>0</th>\n",
       "      <td>2021-01-19T03:58:25Z</td>\n",
       "      <td>album</td>\n",
       "      <td>https://open.spotify.com/artist/5snNHNlYT2UrtZ...</td>\n",
       "      <td>5snNHNlYT2UrtZo5HCJkiw</td>\n",
       "      <td>Epik High</td>\n",
       "      <td>artist</td>\n",
       "      <td>https://open.spotify.com/album/5U1iQJeJurJANhd...</td>\n",
       "      <td>5U1iQJeJurJANhdos9GugT</td>\n",
       "      <td>https://i.scdn.co/image/ab67616d0000b27321f706...</td>\n",
       "      <td>Epik High Is Here 上 (Part 1)</td>\n",
       "      <td>...</td>\n",
       "      <td>False</td>\n",
       "      <td>KRA382007098</td>\n",
       "      <td>https://open.spotify.com/track/0jtVg4s7gv44qWw...</td>\n",
       "      <td>0jtVg4s7gv44qWwCnqBBWP</td>\n",
       "      <td>False</td>\n",
       "      <td>End of the World (Feat. Gsoul)</td>\n",
       "      <td>0</td>\n",
       "      <td>None</td>\n",
       "      <td>9</td>\n",
       "      <td>track</td>\n",
       "    </tr>\n",
       "  </tbody>\n",
       "</table>\n",
       "<p>1 rows × 27 columns</p>\n",
       "</div>"
      ],
      "text/plain": [
       "               added_at album_type  \\\n",
       "0  2021-01-19T03:58:25Z      album   \n",
       "\n",
       "                                  album_artist_spurl       album_artist_spid  \\\n",
       "0  https://open.spotify.com/artist/5snNHNlYT2UrtZ...  5snNHNlYT2UrtZo5HCJkiw   \n",
       "\n",
       "  album_artist_name album_artist_type  \\\n",
       "0         Epik High            artist   \n",
       "\n",
       "                                         album_spurl              album_spid  \\\n",
       "0  https://open.spotify.com/album/5U1iQJeJurJANhd...  5U1iQJeJurJANhdos9GugT   \n",
       "\n",
       "                                       album_img_url  \\\n",
       "0  https://i.scdn.co/image/ab67616d0000b27321f706...   \n",
       "\n",
       "                     album_name  ... track_explicit    track_isrc  \\\n",
       "0  Epik High Is Here 上 (Part 1)  ...          False  KRA382007098   \n",
       "\n",
       "                                         track_spurl              track_spid  \\\n",
       "0  https://open.spotify.com/track/0jtVg4s7gv44qWw...  0jtVg4s7gv44qWwCnqBBWP   \n",
       "\n",
       "  track_is_local                      track_name track_popularity  \\\n",
       "0          False  End of the World (Feat. Gsoul)                0   \n",
       "\n",
       "   track_preview_url track_number track_type  \n",
       "0               None            9      track  \n",
       "\n",
       "[1 rows x 27 columns]"
      ]
     },
     "execution_count": 17,
     "metadata": {},
     "output_type": "execute_result"
    }
   ],
   "source": [
    "liked_tracks_df.head(1)"
   ]
  },
  {
   "cell_type": "markdown",
   "metadata": {},
   "source": [
    "# Get Liked Songs Features"
   ]
  },
  {
   "cell_type": "code",
   "execution_count": 18,
   "metadata": {},
   "outputs": [
    {
     "data": {
      "text/plain": [
       "2371"
      ]
     },
     "execution_count": 18,
     "metadata": {},
     "output_type": "execute_result"
    }
   ],
   "source": [
    "liked_track_ids = liked_tracks_df[\"track_spid\"].unique().tolist()\n",
    "len(liked_track_ids)"
   ]
  },
  {
   "cell_type": "code",
   "execution_count": 19,
   "metadata": {},
   "outputs": [],
   "source": [
    "chunked_liked_track_ids = chunk(liked_track_ids, 100)"
   ]
  },
  {
   "cell_type": "code",
   "execution_count": 20,
   "metadata": {},
   "outputs": [],
   "source": [
    "def get_track_features(track_ids):\n",
    "    time.sleep(0.25)\n",
    "    if len(track_ids)>100:\n",
    "        print(\"Too many tracks\")\n",
    "    else:\n",
    "        return sp.audio_features(track_ids)"
   ]
  },
  {
   "cell_type": "code",
   "execution_count": 21,
   "metadata": {},
   "outputs": [
    {
     "name": "stderr",
     "output_type": "stream",
     "text": [
      "100%|██████████| 24/24 [00:10<00:00,  2.32it/s]\n"
     ]
    }
   ],
   "source": [
    "chunked_liked_track_features = [get_track_features(chunked_tracks) for chunked_tracks in tqdm(chunked_liked_track_ids)]"
   ]
  },
  {
   "cell_type": "code",
   "execution_count": 22,
   "metadata": {},
   "outputs": [],
   "source": [
    "liked_track_features = [val for val in list(chain.from_iterable(chunked_liked_track_features)) if val]"
   ]
  },
  {
   "cell_type": "code",
   "execution_count": 23,
   "metadata": {},
   "outputs": [],
   "source": [
    "#Drop columns with more than 60% nulls and market cols\n",
    "#subset_tracks_df = tracks_df.drop(market_cols, axis=1).dropna(axis=1, thresh=int(0.6*len(tracks_df)))"
   ]
  },
  {
   "cell_type": "code",
   "execution_count": 24,
   "metadata": {},
   "outputs": [],
   "source": [
    "liked_track_features_df = pd.DataFrame(liked_track_features).drop([\n",
    "    \"uri\",\n",
    "    \"track_href\",\n",
    "    \"analysis_url\",\n",
    "    \"type\"\n",
    "], axis=1).rename({\"id\": \"spid\"}, axis=1).add_prefix(\"track_\")"
   ]
  },
  {
   "cell_type": "code",
   "execution_count": 25,
   "metadata": {},
   "outputs": [
    {
     "data": {
      "text/html": [
       "<div>\n",
       "<style scoped>\n",
       "    .dataframe tbody tr th:only-of-type {\n",
       "        vertical-align: middle;\n",
       "    }\n",
       "\n",
       "    .dataframe tbody tr th {\n",
       "        vertical-align: top;\n",
       "    }\n",
       "\n",
       "    .dataframe thead th {\n",
       "        text-align: right;\n",
       "    }\n",
       "</style>\n",
       "<table border=\"1\" class=\"dataframe\">\n",
       "  <thead>\n",
       "    <tr style=\"text-align: right;\">\n",
       "      <th></th>\n",
       "      <th>track_danceability</th>\n",
       "      <th>track_energy</th>\n",
       "      <th>track_key</th>\n",
       "      <th>track_loudness</th>\n",
       "      <th>track_mode</th>\n",
       "      <th>track_speechiness</th>\n",
       "      <th>track_acousticness</th>\n",
       "      <th>track_instrumentalness</th>\n",
       "      <th>track_liveness</th>\n",
       "      <th>track_valence</th>\n",
       "      <th>track_tempo</th>\n",
       "      <th>track_spid</th>\n",
       "      <th>track_duration_ms</th>\n",
       "      <th>track_time_signature</th>\n",
       "    </tr>\n",
       "  </thead>\n",
       "  <tbody>\n",
       "    <tr>\n",
       "      <th>0</th>\n",
       "      <td>0.674</td>\n",
       "      <td>0.554</td>\n",
       "      <td>6</td>\n",
       "      <td>-7.729</td>\n",
       "      <td>0</td>\n",
       "      <td>0.0777</td>\n",
       "      <td>0.302</td>\n",
       "      <td>0.0</td>\n",
       "      <td>0.0798</td>\n",
       "      <td>0.736</td>\n",
       "      <td>76.712</td>\n",
       "      <td>0jtVg4s7gv44qWwCnqBBWP</td>\n",
       "      <td>214642</td>\n",
       "      <td>4</td>\n",
       "    </tr>\n",
       "  </tbody>\n",
       "</table>\n",
       "</div>"
      ],
      "text/plain": [
       "   track_danceability  track_energy  track_key  track_loudness  track_mode  \\\n",
       "0               0.674         0.554          6          -7.729           0   \n",
       "\n",
       "   track_speechiness  track_acousticness  track_instrumentalness  \\\n",
       "0             0.0777               0.302                     0.0   \n",
       "\n",
       "   track_liveness  track_valence  track_tempo              track_spid  \\\n",
       "0          0.0798          0.736       76.712  0jtVg4s7gv44qWwCnqBBWP   \n",
       "\n",
       "   track_duration_ms  track_time_signature  \n",
       "0             214642                     4  "
      ]
     },
     "execution_count": 25,
     "metadata": {},
     "output_type": "execute_result"
    }
   ],
   "source": [
    "liked_track_features_df.head(1)"
   ]
  },
  {
   "cell_type": "markdown",
   "metadata": {},
   "source": [
    "# Get Features of Liked Songs Artists"
   ]
  },
  {
   "cell_type": "code",
   "execution_count": 26,
   "metadata": {},
   "outputs": [
    {
     "data": {
      "text/plain": [
       "1062"
      ]
     },
     "execution_count": 26,
     "metadata": {},
     "output_type": "execute_result"
    }
   ],
   "source": [
    "liked_artist_ids = liked_tracks_df[\"artist_spid\"].unique().tolist()\n",
    "len(liked_artist_ids)"
   ]
  },
  {
   "cell_type": "code",
   "execution_count": 27,
   "metadata": {},
   "outputs": [],
   "source": [
    "def get_artist_features(artist_ids):\n",
    "    time.sleep(0.25)\n",
    "    if len(artist_ids)>50:\n",
    "        print(\"Too many tracks\")\n",
    "    else:\n",
    "        return sp.artists(artist_ids)"
   ]
  },
  {
   "cell_type": "code",
   "execution_count": 28,
   "metadata": {},
   "outputs": [],
   "source": [
    "chunked_liked_artist_ids = chunk(liked_artist_ids, 50)"
   ]
  },
  {
   "cell_type": "code",
   "execution_count": 29,
   "metadata": {},
   "outputs": [
    {
     "name": "stderr",
     "output_type": "stream",
     "text": [
      "100%|██████████| 22/22 [00:07<00:00,  3.10it/s]\n"
     ]
    }
   ],
   "source": [
    "chunked_liked_artist_features = [get_artist_features(chunked_artists)['artists'] for chunked_artists in tqdm(chunked_liked_artist_ids)]"
   ]
  },
  {
   "cell_type": "code",
   "execution_count": 30,
   "metadata": {},
   "outputs": [],
   "source": [
    "liked_artist_features = [val for val in list(chain.from_iterable(chunked_liked_artist_features)) if val]"
   ]
  },
  {
   "cell_type": "code",
   "execution_count": 31,
   "metadata": {},
   "outputs": [
    {
     "data": {
      "text/plain": [
       "1062"
      ]
     },
     "execution_count": 31,
     "metadata": {},
     "output_type": "execute_result"
    }
   ],
   "source": [
    "len(liked_artist_features)"
   ]
  },
  {
   "cell_type": "code",
   "execution_count": 32,
   "metadata": {},
   "outputs": [],
   "source": [
    "def flatten_artist_features(artist_features):\n",
    "    \n",
    "    artist_follower_total = artist_features.get(\"followers\", {}).get(\"total\")\n",
    "    artist_genres = artist_features.get(\"genres\", [])\n",
    "    artist_spid = artist_features.get(\"id\")\n",
    "    artist_img_urls = artist_features.get(\"images\", [{\"url\": None}])\n",
    "    if len(artist_img_urls) == 0:\n",
    "        artist_img_url = None\n",
    "    else:\n",
    "        artist_img_url = artist_img_urls[0].get(\"url\")\n",
    "    artist_popularity = artist_features.get(\"popularity\")\n",
    "\n",
    "    flattened_artist_features = {\n",
    "        \"artist_follower_total\": artist_follower_total,\n",
    "        \"artist_genres\": artist_genres,\n",
    "        \"artist_spid\": artist_spid,\n",
    "        \"artist_img_url\": artist_img_url,\n",
    "        \"artist_popularity\": artist_popularity\n",
    "    }\n",
    "    \n",
    "    return flattened_artist_features"
   ]
  },
  {
   "cell_type": "code",
   "execution_count": 33,
   "metadata": {},
   "outputs": [],
   "source": [
    "flattened_liked_artist_features = [flatten_artist_features(artist) for artist in liked_artist_features]"
   ]
  },
  {
   "cell_type": "code",
   "execution_count": 34,
   "metadata": {},
   "outputs": [],
   "source": [
    "liked_artist_features_df = pd.DataFrame(flattened_liked_artist_features)"
   ]
  },
  {
   "cell_type": "code",
   "execution_count": 35,
   "metadata": {},
   "outputs": [
    {
     "data": {
      "text/html": [
       "<div>\n",
       "<style scoped>\n",
       "    .dataframe tbody tr th:only-of-type {\n",
       "        vertical-align: middle;\n",
       "    }\n",
       "\n",
       "    .dataframe tbody tr th {\n",
       "        vertical-align: top;\n",
       "    }\n",
       "\n",
       "    .dataframe thead th {\n",
       "        text-align: right;\n",
       "    }\n",
       "</style>\n",
       "<table border=\"1\" class=\"dataframe\">\n",
       "  <thead>\n",
       "    <tr style=\"text-align: right;\">\n",
       "      <th></th>\n",
       "      <th>artist_follower_total</th>\n",
       "      <th>artist_genres</th>\n",
       "      <th>artist_spid</th>\n",
       "      <th>artist_img_url</th>\n",
       "      <th>artist_popularity</th>\n",
       "    </tr>\n",
       "  </thead>\n",
       "  <tbody>\n",
       "    <tr>\n",
       "      <th>0</th>\n",
       "      <td>418931</td>\n",
       "      <td>[k-indie, k-pop, k-rap, korean pop]</td>\n",
       "      <td>5snNHNlYT2UrtZo5HCJkiw</td>\n",
       "      <td>https://i.scdn.co/image/853b1c7e60b3231eafe65f...</td>\n",
       "      <td>59</td>\n",
       "    </tr>\n",
       "  </tbody>\n",
       "</table>\n",
       "</div>"
      ],
      "text/plain": [
       "   artist_follower_total                        artist_genres  \\\n",
       "0                 418931  [k-indie, k-pop, k-rap, korean pop]   \n",
       "\n",
       "              artist_spid                                     artist_img_url  \\\n",
       "0  5snNHNlYT2UrtZo5HCJkiw  https://i.scdn.co/image/853b1c7e60b3231eafe65f...   \n",
       "\n",
       "   artist_popularity  \n",
       "0                 59  "
      ]
     },
     "execution_count": 35,
     "metadata": {},
     "output_type": "execute_result"
    }
   ],
   "source": [
    "liked_artist_features_df.head(1)"
   ]
  },
  {
   "cell_type": "markdown",
   "metadata": {},
   "source": [
    "# Join and Save Data"
   ]
  },
  {
   "cell_type": "code",
   "execution_count": 39,
   "metadata": {},
   "outputs": [],
   "source": [
    "liked_songs_info_df = pd.merge(liked_tracks_df, liked_track_features_df, on=\"track_spid\").merge(liked_artist_features_df, on=\"artist_spid\").sort_values(\"added_at\", ascending=False)"
   ]
  },
  {
   "cell_type": "code",
   "execution_count": 40,
   "metadata": {},
   "outputs": [],
   "source": [
    "spotify_path = Path(data_dir, f\"{sp.me()['id']}.csv\")\n",
    "liked_songs_info_df.to_csv(spotify_path, index=False)"
   ]
  },
  {
   "cell_type": "code",
   "execution_count": 38,
   "metadata": {},
   "outputs": [],
   "source": [
    "#TODO: Also include songs in playlists that arent in liked songs?"
   ]
  },
  {
   "cell_type": "code",
   "execution_count": null,
   "metadata": {},
   "outputs": [],
   "source": []
  }
 ],
 "metadata": {
  "kernelspec": {
   "display_name": "Python 3",
   "language": "python",
   "name": "python3"
  },
  "language_info": {
   "codemirror_mode": {
    "name": "ipython",
    "version": 3
   },
   "file_extension": ".py",
   "mimetype": "text/x-python",
   "name": "python",
   "nbconvert_exporter": "python",
   "pygments_lexer": "ipython3",
   "version": "3.7.4"
  }
 },
 "nbformat": 4,
 "nbformat_minor": 4
}
